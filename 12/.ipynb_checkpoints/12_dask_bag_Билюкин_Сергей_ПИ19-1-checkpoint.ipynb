{
 "cells": [
  {
   "cell_type": "markdown",
   "metadata": {},
   "source": [
    "# Dask Bag"
   ]
  },
  {
   "cell_type": "markdown",
   "metadata": {},
   "source": [
    "Материалы: \n",
    "* Макрушин С.В. Лекция 12: Map-Reduce\n",
    "* https://docs.dask.org/en/latest/bag.html\n",
    "* Jesse C. Daniel. Data Science with Python and Dask. "
   ]
  },
  {
   "cell_type": "markdown",
   "metadata": {},
   "source": [
    "## Задачи для совместного разбора"
   ]
  },
  {
   "cell_type": "markdown",
   "metadata": {},
   "source": [
    "1. Считайте файл `Dostoevskiy Fedor. Igrok - BooksCafe.Net.txt` и разбейте на предложения. Подсчитайте длину (в кол-ве символов) каждого предложения."
   ]
  },
  {
   "cell_type": "markdown",
   "metadata": {},
   "source": [
    "2. Считайте файл `Dostoevskiy Fedor. Igrok - BooksCafe.Net.txt` и разбейте на предложения. Выведите предложения, длина которых не более 10 символов."
   ]
  },
  {
   "cell_type": "markdown",
   "metadata": {},
   "source": [
    "3. На основе списка предложений из задачи 1-2 создайте `dask.bag`. Рассчитайте среднюю длину предложений в тексте."
   ]
  },
  {
   "cell_type": "markdown",
   "metadata": {},
   "source": [
    "4. На основе файла `addres_book.json` создайте `dask.bag`. Посчитайте количество мобильных и рабочих телефонов в наборе данных"
   ]
  },
  {
   "cell_type": "markdown",
   "metadata": {},
   "source": [
    "## Лабораторная работа 12"
   ]
  },
  {
   "cell_type": "code",
   "execution_count": 21,
   "metadata": {},
   "outputs": [],
   "source": [
    "import dask.bag as db\n",
    "import json\n",
    "import re\n",
    "import glob\n",
    "import pandas as pd\n",
    "from datetime import datetime"
   ]
  },
  {
   "cell_type": "markdown",
   "metadata": {},
   "source": [
    "1. В файлах архиве `reviews_full.zip` находятся файлы, содержащие информацию об отзывах к рецептам в формате JSON Lines. Отзывы разделены на файлы в зависимости от оценки (например, в файле `reviews_1.json` находятся отзывы с оценкой 1). Считайте файлы из этого архива в виде `dask.bag`. Преобразуйте текстовое содержимое файлов с помощью модуля `json`. Выведите на экран первые 5 элементов полученного `bag`."
   ]
  },
  {
   "cell_type": "code",
   "execution_count": 16,
   "metadata": {},
   "outputs": [
    {
     "data": {
      "text/plain": [
       "({'user_id': 452355,\n",
       "  'recipe_id': 292657,\n",
       "  'date': '2016-05-08',\n",
       "  'review': 'WOW!!! This is the best. I have never been able to make homemade enchiladas that taste like the Mexican restaurants. I made this last night for my family and they said they will never have enchiladas at the Mexican Restaurants again. Thanks for sharing.'},\n",
       " {'user_id': 329304,\n",
       "  'recipe_id': 433404,\n",
       "  'date': '2006-06-14',\n",
       "  'review': 'This was good but the dressing needed something and I found it to be a little too sweet, next time I will experiment with some garlic and herbs and reduce the sugar slightly, thanks for sharing kcdlong!...Kitten'},\n",
       " {'user_id': 227932,\n",
       "  'recipe_id': 2008187,\n",
       "  'date': '1985-11-19',\n",
       "  'review': 'Very good,it was a hit for my family. I used 6 cloves of garlic and had 1 lb beef and  Johnsonville sausage,1/2 lb hot and  1/2 lb honey garlic( which I wanted to use). That was a perfect combo for us. The sausage gave it nice flavor No guestion , I will be making this often.'},\n",
       " {'user_id': 171468,\n",
       "  'recipe_id': 270716,\n",
       "  'date': '2019-05-21',\n",
       "  'review': 'Made for ZWT-8 Family Picks after I saw these mentioned in the Family Picks thread. So I got up this morning, made my morning coffee while the oven was heating & then made these quick-fix sweet treats B4 I was ready for my 2nd cup of coffee. I used 8\" tortillas (all I had on-hand) & cut them into 8 wedges. Then I used 2 of my Pamperd Chef gadgets .. my sml basting brush to spread the honey on the warm tortillas & my flour/sugar shaker to sprinkle the powd sugar/cinnamon mixture atop the honeyed tortillas. It might have taken a total of 2 min from oven to tasting! Yum! Using the same \"sweet mix\" these would also be good w/butter, cream cheese or even lime juice. Can\\'t wait to try them w/lime juice! Thx for sharing this tasty little treat w/us.'},\n",
       " {'user_id': 91392,\n",
       "  'recipe_id': 1159916,\n",
       "  'date': '1972-09-18',\n",
       "  'review': \"Very nice slaw. I especially like that it doesn't have the mayo dressing. I used a prepackaged Cole slaw mix, so i didn't include the carrots nor the nuts. I also doubled the sauce. :)\"})"
      ]
     },
     "execution_count": 16,
     "metadata": {},
     "output_type": "execute_result"
    }
   ],
   "source": [
    "files = glob.glob(\"data/reviews_full/*.json\")\n",
    "jsons = db.read_text(files).map(json.loads)\n",
    "jsons.take(5)"
   ]
  },
  {
   "cell_type": "markdown",
   "metadata": {},
   "source": [
    "2. Модифицируйте функцию разбора JSON таким образом, чтобы в каждый словарь c информацией об отзыве добавить ключ `rating`. Значение получите на основе названия файла (см. аргумент `include_path`), использовав для этого регулярное выражение."
   ]
  },
  {
   "cell_type": "code",
   "execution_count": 24,
   "metadata": {},
   "outputs": [
    {
     "data": {
      "text/plain": [
       "({'user_id': 452355,\n",
       "  'recipe_id': 292657,\n",
       "  'date': '2016-05-08',\n",
       "  'review': 'WOW!!! This is the best. I have never been able to make homemade enchiladas that taste like the Mexican restaurants. I made this last night for my family and they said they will never have enchiladas at the Mexican Restaurants again. Thanks for sharing.',\n",
       "  'rating': '0'},\n",
       " {'user_id': 329304,\n",
       "  'recipe_id': 433404,\n",
       "  'date': '2006-06-14',\n",
       "  'review': 'This was good but the dressing needed something and I found it to be a little too sweet, next time I will experiment with some garlic and herbs and reduce the sugar slightly, thanks for sharing kcdlong!...Kitten',\n",
       "  'rating': '0'},\n",
       " {'user_id': 227932,\n",
       "  'recipe_id': 2008187,\n",
       "  'date': '1985-11-19',\n",
       "  'review': 'Very good,it was a hit for my family. I used 6 cloves of garlic and had 1 lb beef and  Johnsonville sausage,1/2 lb hot and  1/2 lb honey garlic( which I wanted to use). That was a perfect combo for us. The sausage gave it nice flavor No guestion , I will be making this often.',\n",
       "  'rating': '0'},\n",
       " {'user_id': 171468,\n",
       "  'recipe_id': 270716,\n",
       "  'date': '2019-05-21',\n",
       "  'review': 'Made for ZWT-8 Family Picks after I saw these mentioned in the Family Picks thread. So I got up this morning, made my morning coffee while the oven was heating & then made these quick-fix sweet treats B4 I was ready for my 2nd cup of coffee. I used 8\" tortillas (all I had on-hand) & cut them into 8 wedges. Then I used 2 of my Pamperd Chef gadgets .. my sml basting brush to spread the honey on the warm tortillas & my flour/sugar shaker to sprinkle the powd sugar/cinnamon mixture atop the honeyed tortillas. It might have taken a total of 2 min from oven to tasting! Yum! Using the same \"sweet mix\" these would also be good w/butter, cream cheese or even lime juice. Can\\'t wait to try them w/lime juice! Thx for sharing this tasty little treat w/us.',\n",
       "  'rating': '0'},\n",
       " {'user_id': 91392,\n",
       "  'recipe_id': 1159916,\n",
       "  'date': '1972-09-18',\n",
       "  'review': \"Very nice slaw. I especially like that it doesn't have the mayo dressing. I used a prepackaged Cole slaw mix, so i didn't include the carrots nor the nuts. I also doubled the sauce. :)\",\n",
       "  'rating': '0'})"
      ]
     },
     "execution_count": 24,
     "metadata": {},
     "output_type": "execute_result"
    }
   ],
   "source": [
    "def add_rating(data):\n",
    "    item = json.loads(data[0])\n",
    "    item['rating'] = re.findall(r'\\d+', data[1])[-1]\n",
    "    return item\n",
    "rating_jsons = db.read_text(files, include_path=True).map(add_rating)\n",
    "rating_jsons.take(5)"
   ]
  },
  {
   "cell_type": "markdown",
   "metadata": {},
   "source": [
    "3. Посчитайте количество отзывов в исходном датасете."
   ]
  },
  {
   "cell_type": "code",
   "execution_count": 18,
   "metadata": {},
   "outputs": [
    {
     "data": {
      "text/plain": [
       "9057540"
      ]
     },
     "execution_count": 18,
     "metadata": {},
     "output_type": "execute_result"
    }
   ],
   "source": [
    "jsons.count().compute()"
   ]
  },
  {
   "cell_type": "markdown",
   "metadata": {},
   "source": [
    "4. Отфильтруйте `bag`, сохранив только отзывы, оставленные в 2014 и 2015 годах."
   ]
  },
  {
   "cell_type": "code",
   "execution_count": 22,
   "metadata": {},
   "outputs": [
    {
     "data": {
      "text/plain": [
       "({'user_id': 229850,\n",
       "  'recipe_id': 1300038,\n",
       "  'date': '2014-10-03',\n",
       "  'review': 'Took this to a New Year&#039;s Eve Party. Everyone loved it! It&#039;s absolutely perfect, the flavor, the crunch, just delicious!',\n",
       "  'rating': 1},\n",
       " {'user_id': 2706705,\n",
       "  'recipe_id': 133747,\n",
       "  'date': '2015-05-08',\n",
       "  'review': 'Simple and easy way to enjoy a slice of pizza any time!  Well-toasted bread is the key - really toast it!  I put a bit of pizza sauce underneath my cheese for a more pizza-like flavor.  I used sourdough bread & medium cheddar cheese.  Fast & fun!  Great idea!  Made for 1-2-3 Hits Tag Game.',\n",
       "  'rating': 1},\n",
       " {'user_id': 945545,\n",
       "  'recipe_id': 898468,\n",
       "  'date': '2015-06-30',\n",
       "  'review': 'Delish!  I wanted to make this spicy so I used hot enchilada sauce and jalapeno refried beans.  I forgot to buy the onions so I doctored up the beans with onion powder and granulated garlic.  Added the olives under the cheese and baked, uncovered, for the 25 minutes.  Served with pico de gallo, sour cream and avocado chunks.  Fantastic!  Thanks for sharing, lazyme!',\n",
       "  'rating': 1},\n",
       " {'user_id': 262915,\n",
       "  'recipe_id': 1657686,\n",
       "  'date': '2015-11-29',\n",
       "  'review': 'This is seriously delicious.  I mixed it up the night before and baked it in the morning before work.  Made the sauce the night before and refrigerated overnight and heated in microwave.  Such an unusual combination but it kind of reminded me of the pancake on a stick that my kids used to get at the convenience store (sausage wrapped in a pancake, kind of like a corn dog.  Making it again this week and will try to get a pic this time!',\n",
       "  'rating': 1},\n",
       " {'user_id': 2000408662,\n",
       "  'recipe_id': 128848,\n",
       "  'date': '2015-08-17',\n",
       "  'review': 'Many thanks. Found the recipe truly marvellous! I can now make full use of the lemons growing in my garden.The marmalade was delicious and very easy to make. Since it was the first time, I didn&#039;t want to use a large quantity and so I halved the measures after converting them into grams. Please could we have measurements of ingredients in  recipes in the metric system, i.e. grams and litres,and not in pounds?  Now I am going to search for a recipe to make lemon squash',\n",
       "  'rating': 1})"
      ]
     },
     "execution_count": 22,
     "metadata": {},
     "output_type": "execute_result"
    }
   ],
   "source": [
    "filtered_jsons = rating_jsons.filter(lambda obj: 2013 < datetime.strptime(obj['date'], '%Y-%m-%d').year < 2016)\n",
    "filtered_jsons.take(5)"
   ]
  },
  {
   "cell_type": "markdown",
   "metadata": {},
   "source": [
    "5. Выполните препроцессинг отзывов:\n",
    "    * привести строки к нижнему регистру\n",
    "    * обрезать пробельные символы в начале и конце строки\n",
    "    * удалите все символы, кроме английских букв и пробелов\n",
    "    \n",
    "Примените препроцессинг ко всем записям из `bag`, полученного в задании 4."
   ]
  },
  {
   "cell_type": "code",
   "execution_count": 25,
   "metadata": {},
   "outputs": [
    {
     "data": {
      "text/plain": [
       "({'user_id': 229850,\n",
       "  'recipe_id': 1300038,\n",
       "  'date': '2014-10-03',\n",
       "  'review': 'took this to a new years eve party everyone loved it its absolutely perfect the flavor the crunch just delicious',\n",
       "  'rating': 1},\n",
       " {'user_id': 2706705,\n",
       "  'recipe_id': 133747,\n",
       "  'date': '2015-05-08',\n",
       "  'review': 'simple and easy way to enjoy a slice of pizza any time  welltoasted bread is the key  really toast it  i put a bit of pizza sauce underneath my cheese for a more pizzalike flavor  i used sourdough bread  medium cheddar cheese  fast  fun  great idea  made for  hits tag game',\n",
       "  'rating': 1},\n",
       " {'user_id': 945545,\n",
       "  'recipe_id': 898468,\n",
       "  'date': '2015-06-30',\n",
       "  'review': 'delish  i wanted to make this spicy so i used hot enchilada sauce and jalapeno refried beans  i forgot to buy the onions so i doctored up the beans with onion powder and granulated garlic  added the olives under the cheese and baked uncovered for the  minutes  served with pico de gallo sour cream and avocado chunks  fantastic  thanks for sharing lazyme',\n",
       "  'rating': 1},\n",
       " {'user_id': 262915,\n",
       "  'recipe_id': 1657686,\n",
       "  'date': '2015-11-29',\n",
       "  'review': 'this is seriously delicious  i mixed it up the night before and baked it in the morning before work  made the sauce the night before and refrigerated overnight and heated in microwave  such an unusual combination but it kind of reminded me of the pancake on a stick that my kids used to get at the convenience store sausage wrapped in a pancake kind of like a corn dog  making it again this week and will try to get a pic this time',\n",
       "  'rating': 1},\n",
       " {'user_id': 2000408662,\n",
       "  'recipe_id': 128848,\n",
       "  'date': '2015-08-17',\n",
       "  'review': 'many thanks found the recipe truly marvellous i can now make full use of the lemons growing in my gardenthe marmalade was delicious and very easy to make since it was the first time i didnt want to use a large quantity and so i halved the measures after converting them into grams please could we have measurements of ingredients in  recipes in the metric system ie grams and litresand not in pounds  now i am going to search for a recipe to make lemon squash',\n",
       "  'rating': 1})"
      ]
     },
     "execution_count": 25,
     "metadata": {},
     "output_type": "execute_result"
    }
   ],
   "source": [
    "def preprocessor(data):\n",
    "    data['review'] = re.sub(r'[^a-zA-Z ]+', '', data['review'].lower().strip())\n",
    "    return data\n",
    "    \n",
    "proccessed_jsons = filtered_jsons.map(preprocessor)\n",
    "proccessed_jsons.take(5)"
   ]
  },
  {
   "cell_type": "markdown",
   "metadata": {},
   "source": [
    "6. Посчитайте количество отзывов в датасете, полученном в результате решения задачи 5. В случае ошибок прокомментируйте результат и исправьте функцию препроцессинга."
   ]
  },
  {
   "cell_type": "code",
   "execution_count": 26,
   "metadata": {},
   "outputs": [
    {
     "data": {
      "text/plain": [
       "735274"
      ]
     },
     "execution_count": 26,
     "metadata": {},
     "output_type": "execute_result"
    }
   ],
   "source": [
    "proccessed_jsons.count().compute()"
   ]
  },
  {
   "cell_type": "markdown",
   "metadata": {},
   "source": [
    "7. Посчитайте, как часто в наборе, полученном в задании 5, встречается та или иная оценка."
   ]
  },
  {
   "cell_type": "code",
   "execution_count": 34,
   "metadata": {},
   "outputs": [
    {
     "data": {
      "text/plain": [
       "1    735274\n",
       "Name: rating, dtype: int64"
      ]
     },
     "execution_count": 34,
     "metadata": {},
     "output_type": "execute_result"
    }
   ],
   "source": [
    "jsons_df = proccessed_jsons.to_dataframe()\n",
    "jsons_df['rating'].value_counts().compute()"
   ]
  },
  {
   "cell_type": "markdown",
   "metadata": {},
   "source": [
    "8. Найдите среднее значение `rating` в наборе, полученном в задании 5."
   ]
  },
  {
   "cell_type": "code",
   "execution_count": 35,
   "metadata": {},
   "outputs": [
    {
     "data": {
      "text/plain": [
       "1.0"
      ]
     },
     "execution_count": 35,
     "metadata": {},
     "output_type": "execute_result"
    }
   ],
   "source": [
    "jsons_df['rating'].mean().compute()"
   ]
  },
  {
   "cell_type": "markdown",
   "metadata": {},
   "source": [
    "9. Используя метод `foldby`, подсчитать максимальную длину отзывов в зависимости от оценки `rating` в наборе, полученном в задании 5."
   ]
  },
  {
   "cell_type": "code",
   "execution_count": null,
   "metadata": {},
   "outputs": [],
   "source": [
    "def binop(t, x):\n",
    "    return max((t, x), key=lambda x: x[1])\n",
    "proccessed_jsons = proccessed_jsons.map(lambda item: (item['rating'], len(item['review']))).foldby(lambda item: (item[0], binop))"
   ]
  },
  {
   "cell_type": "code",
   "execution_count": null,
   "metadata": {},
   "outputs": [],
   "source": [
    "proccessed_jsons"
   ]
  }
 ],
 "metadata": {
  "kernelspec": {
   "display_name": "Python 3",
   "language": "python",
   "name": "python3"
  },
  "language_info": {
   "codemirror_mode": {
    "name": "ipython",
    "version": 3
   },
   "file_extension": ".py",
   "mimetype": "text/x-python",
   "name": "python",
   "nbconvert_exporter": "python",
   "pygments_lexer": "ipython3",
   "version": "3.8.8"
  }
 },
 "nbformat": 4,
 "nbformat_minor": 4
}
