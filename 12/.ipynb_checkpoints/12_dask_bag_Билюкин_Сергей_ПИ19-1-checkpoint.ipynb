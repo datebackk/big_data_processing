{
 "cells": [
  {
   "cell_type": "markdown",
   "metadata": {},
   "source": [
    "# Dask Bag"
   ]
  },
  {
   "cell_type": "markdown",
   "metadata": {},
   "source": [
    "Материалы: \n",
    "* Макрушин С.В. Лекция 12: Map-Reduce\n",
    "* https://docs.dask.org/en/latest/bag.html\n",
    "* Jesse C. Daniel. Data Science with Python and Dask. "
   ]
  },
  {
   "cell_type": "markdown",
   "metadata": {},
   "source": [
    "## Задачи для совместного разбора"
   ]
  },
  {
   "cell_type": "markdown",
   "metadata": {},
   "source": [
    "1. Считайте файл `Dostoevskiy Fedor. Igrok - BooksCafe.Net.txt` и разбейте на предложения. Подсчитайте длину (в кол-ве символов) каждого предложения."
   ]
  },
  {
   "cell_type": "markdown",
   "metadata": {},
   "source": [
    "2. Считайте файл `Dostoevskiy Fedor. Igrok - BooksCafe.Net.txt` и разбейте на предложения. Выведите предложения, длина которых не более 10 символов."
   ]
  },
  {
   "cell_type": "markdown",
   "metadata": {},
   "source": [
    "3. На основе списка предложений из задачи 1-2 создайте `dask.bag`. Рассчитайте среднюю длину предложений в тексте."
   ]
  },
  {
   "cell_type": "markdown",
   "metadata": {},
   "source": [
    "4. На основе файла `addres_book.json` создайте `dask.bag`. Посчитайте количество мобильных и рабочих телефонов в наборе данных"
   ]
  },
  {
   "cell_type": "markdown",
   "metadata": {},
   "source": [
    "## Лабораторная работа 12"
   ]
  },
  {
   "cell_type": "code",
   "execution_count": 1,
   "metadata": {},
   "outputs": [],
   "source": [
    "import dask.bag as db\n",
    "import json\n",
    "import re\n",
    "import glob\n",
    "import pandas as pd\n",
    "from datetime import datetime"
   ]
  },
  {
   "cell_type": "markdown",
   "metadata": {},
   "source": [
    "1. В файлах архиве `reviews_full.zip` находятся файлы, содержащие информацию об отзывах к рецептам в формате JSON Lines. Отзывы разделены на файлы в зависимости от оценки (например, в файле `reviews_1.json` находятся отзывы с оценкой 1). Считайте файлы из этого архива в виде `dask.bag`. Преобразуйте текстовое содержимое файлов с помощью модуля `json`. Выведите на экран первые 5 элементов полученного `bag`."
   ]
  },
  {
   "cell_type": "code",
   "execution_count": 2,
   "metadata": {},
   "outputs": [
    {
     "data": {
      "text/plain": [
       "({'user_id': 2056668,\n",
       "  'recipe_id': 77845,\n",
       "  'date': '2018-06-13',\n",
       "  'review': \"A terrific snack for the boys! They gobbled them up. Such a simple and tasty treat. Love that they are low calorie, but it's true, you can't just eat one, or two....they were so good! Thanks Annacia for another way to serve a easy snack. Made for ZWT3 ~V\"},\n",
       " {'user_id': 1098259,\n",
       "  'recipe_id': 253902,\n",
       "  'date': '2020-04-01',\n",
       "  'review': 'i have to say this was very easy i tend to have problems with my crust \\nbut not with this recipe.  I&#039;m making pot pies tonight and this recipe \\nwas perfect for it, thank you'},\n",
       " {'user_id': 452592,\n",
       "  'recipe_id': 1775453,\n",
       "  'date': '2009-07-12',\n",
       "  'review': 'Not a fan.'},\n",
       " {'user_id': 1012958,\n",
       "  'recipe_id': 892246,\n",
       "  'date': '2016-12-20',\n",
       "  'review': 'Perfect!  And smelled so good while simmering.  This made just the right amount for two 12\" pizzas and tasted fabulous.  Easy, too.  Winner!!'},\n",
       " {'user_id': 2074896,\n",
       "  'recipe_id': 1947864,\n",
       "  'date': '2007-08-19',\n",
       "  'review': \"Wonderful minestrone soup!!!  I always say that bacon makes everything better and never would have thought to use it to make minestrone soup, but it is perfect!!!  I originally thought I would use veggie, chicken or beef broth instead of the water, but decided to wait and try it with just the flavoring from the bacon and bacon fat, good decision!!  I made a few minor changes, based on what I had on hand and DS's favorites.  I used small bow-tie pasta, a can of Navy Beans and then added a can of cut green beans so DS would eat some of the soup.  Followed the rest as written, other then adding more salt, pepper and then added some garlic salt for our tastes.  Really love the freshness and flavor of this soup.  Thanks for sharing the recipe.  Made for Newest Tag Game.\"})"
      ]
     },
     "execution_count": 2,
     "metadata": {},
     "output_type": "execute_result"
    }
   ],
   "source": [
    "files = glob.glob(\"data/reviews_full/*.json\")\n",
    "jsons = db.read_text(files).map(json.loads)\n",
    "jsons.take(5)"
   ]
  },
  {
   "cell_type": "markdown",
   "metadata": {},
   "source": [
    "2. Модифицируйте функцию разбора JSON таким образом, чтобы в каждый словарь c информацией об отзыве добавить ключ `rating`. Значение получите на основе названия файла (см. аргумент `include_path`), использовав для этого регулярное выражение."
   ]
  },
  {
   "cell_type": "code",
   "execution_count": 3,
   "metadata": {},
   "outputs": [
    {
     "data": {
      "text/plain": [
       "({'user_id': 2056668,\n",
       "  'recipe_id': 77845,\n",
       "  'date': '2018-06-13',\n",
       "  'review': \"A terrific snack for the boys! They gobbled them up. Such a simple and tasty treat. Love that they are low calorie, but it's true, you can't just eat one, or two....they were so good! Thanks Annacia for another way to serve a easy snack. Made for ZWT3 ~V\",\n",
       "  'rating': '1'},\n",
       " {'user_id': 1098259,\n",
       "  'recipe_id': 253902,\n",
       "  'date': '2020-04-01',\n",
       "  'review': 'i have to say this was very easy i tend to have problems with my crust \\nbut not with this recipe.  I&#039;m making pot pies tonight and this recipe \\nwas perfect for it, thank you',\n",
       "  'rating': '1'},\n",
       " {'user_id': 452592,\n",
       "  'recipe_id': 1775453,\n",
       "  'date': '2009-07-12',\n",
       "  'review': 'Not a fan.',\n",
       "  'rating': '1'},\n",
       " {'user_id': 1012958,\n",
       "  'recipe_id': 892246,\n",
       "  'date': '2016-12-20',\n",
       "  'review': 'Perfect!  And smelled so good while simmering.  This made just the right amount for two 12\" pizzas and tasted fabulous.  Easy, too.  Winner!!',\n",
       "  'rating': '1'},\n",
       " {'user_id': 2074896,\n",
       "  'recipe_id': 1947864,\n",
       "  'date': '2007-08-19',\n",
       "  'review': \"Wonderful minestrone soup!!!  I always say that bacon makes everything better and never would have thought to use it to make minestrone soup, but it is perfect!!!  I originally thought I would use veggie, chicken or beef broth instead of the water, but decided to wait and try it with just the flavoring from the bacon and bacon fat, good decision!!  I made a few minor changes, based on what I had on hand and DS's favorites.  I used small bow-tie pasta, a can of Navy Beans and then added a can of cut green beans so DS would eat some of the soup.  Followed the rest as written, other then adding more salt, pepper and then added some garlic salt for our tastes.  Really love the freshness and flavor of this soup.  Thanks for sharing the recipe.  Made for Newest Tag Game.\",\n",
       "  'rating': '1'})"
      ]
     },
     "execution_count": 3,
     "metadata": {},
     "output_type": "execute_result"
    }
   ],
   "source": [
    "def add_rating(data):\n",
    "    item = json.loads(data[0])\n",
    "    item['rating'] = re.findall(r'\\d+', data[1])[-1]\n",
    "    return item\n",
    "rating_jsons = db.read_text(files, include_path=True).map(add_rating)\n",
    "rating_jsons.take(5)"
   ]
  },
  {
   "cell_type": "markdown",
   "metadata": {},
   "source": [
    "3. Посчитайте количество отзывов в исходном датасете."
   ]
  },
  {
   "cell_type": "code",
   "execution_count": 4,
   "metadata": {},
   "outputs": [
    {
     "data": {
      "text/plain": [
       "9057540"
      ]
     },
     "execution_count": 4,
     "metadata": {},
     "output_type": "execute_result"
    }
   ],
   "source": [
    "jsons.count().compute()"
   ]
  },
  {
   "cell_type": "markdown",
   "metadata": {},
   "source": [
    "4. Отфильтруйте `bag`, сохранив только отзывы, оставленные в 2014 и 2015 годах."
   ]
  },
  {
   "cell_type": "code",
   "execution_count": 5,
   "metadata": {},
   "outputs": [
    {
     "data": {
      "text/plain": [
       "({'user_id': 774287,\n",
       "  'recipe_id': 1299912,\n",
       "  'date': '2015-09-27',\n",
       "  'review': \"WOW!  These are soooo good!  Best oven rib recipe I've tried yet.  I used Cattleman's original bbq sauce and threw in a little liquid smoke, also.  Thank you for sharing this awesome recipe!\",\n",
       "  'rating': '1'},\n",
       " {'user_id': 135872,\n",
       "  'recipe_id': 487082,\n",
       "  'date': '2015-11-12',\n",
       "  'review': \"I was nervous about trying this!  The last couple of recipes using ground turkey..weren't our favorite recipes..these are very very good!!  I will make this again! Instead of white bread, I used bread crumbs other than that, I followed as written. Thanks Cheryl!!\",\n",
       "  'rating': '1'},\n",
       " {'user_id': 416401,\n",
       "  'recipe_id': 739313,\n",
       "  'date': '2014-10-08',\n",
       "  'review': 'I may never be as decadent as the Raj during the Empress of India days but I do love unusual sandwich fillings to spice up my really bland lunch periods. I didn&#039;t make tea sandwiches but I did make several lunchtime centerpieces with the fillings listed. Everything turned out super but I did have runny tomatoes so I just kept that filling in a lunch container and had that as a &quot;side salad&quot;. I recommend these fillings highly!!',\n",
       "  'rating': '1'},\n",
       " {'user_id': 2438543,\n",
       "  'recipe_id': 1175507,\n",
       "  'date': '2015-11-23',\n",
       "  'review': 'Yum Yum, just like an omelette scramble, loved the touch of italian herbs, this was a great Friday night dinner, quick & easy, thanks for posting! Made for Adopt a Joey, ANZ Forum 2008.',\n",
       "  'rating': '1'},\n",
       " {'user_id': 139381,\n",
       "  'recipe_id': 1510185,\n",
       "  'date': '2014-07-29',\n",
       "  'review': \"This was pretty good!  We cut the salt in half, as suggested by other reviewers, and put in some extra pepper probably an extra 1/4 teaspoon.  Otherwise this was pretty good!  We'll definitely make it again, as we always have this stuff on hand.\",\n",
       "  'rating': '1'})"
      ]
     },
     "execution_count": 5,
     "metadata": {},
     "output_type": "execute_result"
    }
   ],
   "source": [
    "filtered_jsons = rating_jsons.filter(lambda obj: 2013 < datetime.strptime(obj['date'], '%Y-%m-%d').year < 2016)\n",
    "filtered_jsons.take(5)"
   ]
  },
  {
   "cell_type": "markdown",
   "metadata": {},
   "source": [
    "5. Выполните препроцессинг отзывов:\n",
    "    * привести строки к нижнему регистру\n",
    "    * обрезать пробельные символы в начале и конце строки\n",
    "    * удалите все символы, кроме английских букв и пробелов\n",
    "    \n",
    "Примените препроцессинг ко всем записям из `bag`, полученного в задании 4."
   ]
  },
  {
   "cell_type": "code",
   "execution_count": 6,
   "metadata": {},
   "outputs": [
    {
     "data": {
      "text/plain": [
       "({'user_id': 774287,\n",
       "  'recipe_id': 1299912,\n",
       "  'date': '2015-09-27',\n",
       "  'review': 'wow  these are soooo good  best oven rib recipe ive tried yet  i used cattlemans original bbq sauce and threw in a little liquid smoke also  thank you for sharing this awesome recipe',\n",
       "  'rating': '1'},\n",
       " {'user_id': 135872,\n",
       "  'recipe_id': 487082,\n",
       "  'date': '2015-11-12',\n",
       "  'review': 'i was nervous about trying this  the last couple of recipes using ground turkeywerent our favorite recipesthese are very very good  i will make this again instead of white bread i used bread crumbs other than that i followed as written thanks cheryl',\n",
       "  'rating': '1'},\n",
       " {'user_id': 416401,\n",
       "  'recipe_id': 739313,\n",
       "  'date': '2014-10-08',\n",
       "  'review': 'i may never be as decadent as the raj during the empress of india days but i do love unusual sandwich fillings to spice up my really bland lunch periods i didnt make tea sandwiches but i did make several lunchtime centerpieces with the fillings listed everything turned out super but i did have runny tomatoes so i just kept that filling in a lunch container and had that as a quotside saladquot i recommend these fillings highly',\n",
       "  'rating': '1'},\n",
       " {'user_id': 2438543,\n",
       "  'recipe_id': 1175507,\n",
       "  'date': '2015-11-23',\n",
       "  'review': 'yum yum just like an omelette scramble loved the touch of italian herbs this was a great friday night dinner quick  easy thanks for posting made for adopt a joey anz forum ',\n",
       "  'rating': '1'},\n",
       " {'user_id': 139381,\n",
       "  'recipe_id': 1510185,\n",
       "  'date': '2014-07-29',\n",
       "  'review': 'this was pretty good  we cut the salt in half as suggested by other reviewers and put in some extra pepper probably an extra  teaspoon  otherwise this was pretty good  well definitely make it again as we always have this stuff on hand',\n",
       "  'rating': '1'})"
      ]
     },
     "execution_count": 6,
     "metadata": {},
     "output_type": "execute_result"
    }
   ],
   "source": [
    "def preprocessor(data):\n",
    "    data['review'] = re.sub(r'[^a-zA-Z ]+', '', data['review'].lower().strip())\n",
    "    return data\n",
    "    \n",
    "proccessed_jsons = filtered_jsons.map(preprocessor)\n",
    "proccessed_jsons.take(5)"
   ]
  },
  {
   "cell_type": "markdown",
   "metadata": {},
   "source": [
    "6. Посчитайте количество отзывов в датасете, полученном в результате решения задачи 5. В случае ошибок прокомментируйте результат и исправьте функцию препроцессинга."
   ]
  },
  {
   "cell_type": "code",
   "execution_count": 7,
   "metadata": {},
   "outputs": [
    {
     "data": {
      "text/plain": [
       "735274"
      ]
     },
     "execution_count": 7,
     "metadata": {},
     "output_type": "execute_result"
    }
   ],
   "source": [
    "proccessed_jsons.count().compute()"
   ]
  },
  {
   "cell_type": "markdown",
   "metadata": {},
   "source": [
    "7. Посчитайте, как часто в наборе, полученном в задании 5, встречается та или иная оценка."
   ]
  },
  {
   "cell_type": "code",
   "execution_count": 12,
   "metadata": {},
   "outputs": [
    {
     "data": {
      "text/plain": [
       "5    528231\n",
       "4    119413\n",
       "0     42472\n",
       "3     26532\n",
       "2      9380\n",
       "1      9246\n",
       "Name: rating, dtype: int64"
      ]
     },
     "execution_count": 12,
     "metadata": {},
     "output_type": "execute_result"
    }
   ],
   "source": [
    "jsons_df = proccessed_jsons.to_dataframe()\n",
    "jsons_df['rating'].value_counts().compute()"
   ]
  },
  {
   "cell_type": "markdown",
   "metadata": {},
   "source": [
    "8. Найдите среднее значение `rating` в наборе, полученном в задании 5."
   ]
  },
  {
   "cell_type": "code",
   "execution_count": 16,
   "metadata": {},
   "outputs": [
    {
     "ename": "ValueError",
     "evalue": "`mean` not supported with object series",
     "output_type": "error",
     "traceback": [
      "\u001b[0;31m---------------------------------------------------------------------------\u001b[0m",
      "\u001b[0;31mValueError\u001b[0m                                Traceback (most recent call last)",
      "\u001b[0;32m<ipython-input-16-22017292a518>\u001b[0m in \u001b[0;36m<module>\u001b[0;34m\u001b[0m\n\u001b[0;32m----> 1\u001b[0;31m \u001b[0mjsons_df\u001b[0m\u001b[0;34m[\u001b[0m\u001b[0;34m'rating'\u001b[0m\u001b[0;34m]\u001b[0m\u001b[0;34m.\u001b[0m\u001b[0mmean\u001b[0m\u001b[0;34m(\u001b[0m\u001b[0;34m)\u001b[0m\u001b[0;34m.\u001b[0m\u001b[0mcompute\u001b[0m\u001b[0;34m(\u001b[0m\u001b[0;34m)\u001b[0m\u001b[0;34m\u001b[0m\u001b[0;34m\u001b[0m\u001b[0m\n\u001b[0m",
      "\u001b[0;32m/opt/anaconda3/lib/python3.8/site-packages/dask/dataframe/core.py\u001b[0m in \u001b[0;36mmean\u001b[0;34m(self, axis, skipna, split_every, dtype, out)\u001b[0m\n\u001b[1;32m   1857\u001b[0m     \u001b[0;32mdef\u001b[0m \u001b[0mmean\u001b[0m\u001b[0;34m(\u001b[0m\u001b[0mself\u001b[0m\u001b[0;34m,\u001b[0m \u001b[0maxis\u001b[0m\u001b[0;34m=\u001b[0m\u001b[0;32mNone\u001b[0m\u001b[0;34m,\u001b[0m \u001b[0mskipna\u001b[0m\u001b[0;34m=\u001b[0m\u001b[0;32mTrue\u001b[0m\u001b[0;34m,\u001b[0m \u001b[0msplit_every\u001b[0m\u001b[0;34m=\u001b[0m\u001b[0;32mFalse\u001b[0m\u001b[0;34m,\u001b[0m \u001b[0mdtype\u001b[0m\u001b[0;34m=\u001b[0m\u001b[0;32mNone\u001b[0m\u001b[0;34m,\u001b[0m \u001b[0mout\u001b[0m\u001b[0;34m=\u001b[0m\u001b[0;32mNone\u001b[0m\u001b[0;34m)\u001b[0m\u001b[0;34m:\u001b[0m\u001b[0;34m\u001b[0m\u001b[0;34m\u001b[0m\u001b[0m\n\u001b[1;32m   1858\u001b[0m         \u001b[0maxis\u001b[0m \u001b[0;34m=\u001b[0m \u001b[0mself\u001b[0m\u001b[0;34m.\u001b[0m\u001b[0m_validate_axis\u001b[0m\u001b[0;34m(\u001b[0m\u001b[0maxis\u001b[0m\u001b[0;34m)\u001b[0m\u001b[0;34m\u001b[0m\u001b[0;34m\u001b[0m\u001b[0m\n\u001b[0;32m-> 1859\u001b[0;31m         \u001b[0m_raise_if_object_series\u001b[0m\u001b[0;34m(\u001b[0m\u001b[0mself\u001b[0m\u001b[0;34m,\u001b[0m \u001b[0;34m\"mean\"\u001b[0m\u001b[0;34m)\u001b[0m\u001b[0;34m\u001b[0m\u001b[0;34m\u001b[0m\u001b[0m\n\u001b[0m\u001b[1;32m   1860\u001b[0m         \u001b[0mmeta\u001b[0m \u001b[0;34m=\u001b[0m \u001b[0mself\u001b[0m\u001b[0;34m.\u001b[0m\u001b[0m_meta_nonempty\u001b[0m\u001b[0;34m.\u001b[0m\u001b[0mmean\u001b[0m\u001b[0;34m(\u001b[0m\u001b[0maxis\u001b[0m\u001b[0;34m=\u001b[0m\u001b[0maxis\u001b[0m\u001b[0;34m,\u001b[0m \u001b[0mskipna\u001b[0m\u001b[0;34m=\u001b[0m\u001b[0mskipna\u001b[0m\u001b[0;34m)\u001b[0m\u001b[0;34m\u001b[0m\u001b[0;34m\u001b[0m\u001b[0m\n\u001b[1;32m   1861\u001b[0m         \u001b[0;32mif\u001b[0m \u001b[0maxis\u001b[0m \u001b[0;34m==\u001b[0m \u001b[0;36m1\u001b[0m\u001b[0;34m:\u001b[0m\u001b[0;34m\u001b[0m\u001b[0;34m\u001b[0m\u001b[0m\n",
      "\u001b[0;32m/opt/anaconda3/lib/python3.8/site-packages/dask/dataframe/core.py\u001b[0m in \u001b[0;36m_raise_if_object_series\u001b[0;34m(x, funcname)\u001b[0m\n\u001b[1;32m   2936\u001b[0m     \"\"\"\n\u001b[1;32m   2937\u001b[0m     \u001b[0;32mif\u001b[0m \u001b[0misinstance\u001b[0m\u001b[0;34m(\u001b[0m\u001b[0mx\u001b[0m\u001b[0;34m,\u001b[0m \u001b[0mSeries\u001b[0m\u001b[0;34m)\u001b[0m \u001b[0;32mand\u001b[0m \u001b[0mhasattr\u001b[0m\u001b[0;34m(\u001b[0m\u001b[0mx\u001b[0m\u001b[0;34m,\u001b[0m \u001b[0;34m\"dtype\"\u001b[0m\u001b[0;34m)\u001b[0m \u001b[0;32mand\u001b[0m \u001b[0mx\u001b[0m\u001b[0;34m.\u001b[0m\u001b[0mdtype\u001b[0m \u001b[0;34m==\u001b[0m \u001b[0mobject\u001b[0m\u001b[0;34m:\u001b[0m\u001b[0;34m\u001b[0m\u001b[0;34m\u001b[0m\u001b[0m\n\u001b[0;32m-> 2938\u001b[0;31m         \u001b[0;32mraise\u001b[0m \u001b[0mValueError\u001b[0m\u001b[0;34m(\u001b[0m\u001b[0;34m\"`%s` not supported with object series\"\u001b[0m \u001b[0;34m%\u001b[0m \u001b[0mfuncname\u001b[0m\u001b[0;34m)\u001b[0m\u001b[0;34m\u001b[0m\u001b[0;34m\u001b[0m\u001b[0m\n\u001b[0m\u001b[1;32m   2939\u001b[0m \u001b[0;34m\u001b[0m\u001b[0m\n\u001b[1;32m   2940\u001b[0m \u001b[0;34m\u001b[0m\u001b[0m\n",
      "\u001b[0;31mValueError\u001b[0m: `mean` not supported with object series"
     ]
    }
   ],
   "source": [
    "jsons_df['rating'].mean().compute()"
   ]
  },
  {
   "cell_type": "markdown",
   "metadata": {},
   "source": [
    "9. Используя метод `foldby`, подсчитать максимальную длину отзывов в зависимости от оценки `rating` в наборе, полученном в задании 5."
   ]
  },
  {
   "cell_type": "code",
   "execution_count": 20,
   "metadata": {},
   "outputs": [],
   "source": [
    "def binop(t, x):\n",
    "    return max((t, x), key=lambda x: x[1])\n",
    "\n",
    "proccessed_jsons = proccessed_jsons.map(lambda item: (item['rating'], len(item['review']))).foldby(lambda item: item[0], binop)"
   ]
  },
  {
   "cell_type": "code",
   "execution_count": 22,
   "metadata": {},
   "outputs": [
    {
     "data": {
      "text/plain": [
       "[('1', ('1', 2868)),\n",
       " ('0', ('0', 6548)),\n",
       " ('3', ('3', 3174)),\n",
       " ('2', ('2', 2834)),\n",
       " ('5', ('5', 5343)),\n",
       " ('4', ('4', 6548))]"
      ]
     },
     "execution_count": 22,
     "metadata": {},
     "output_type": "execute_result"
    }
   ],
   "source": [
    "proccessed_jsons.compute()"
   ]
  },
  {
   "cell_type": "code",
   "execution_count": null,
   "metadata": {},
   "outputs": [],
   "source": []
  }
 ],
 "metadata": {
  "kernelspec": {
   "display_name": "Python 3",
   "language": "python",
   "name": "python3"
  },
  "language_info": {
   "codemirror_mode": {
    "name": "ipython",
    "version": 3
   },
   "file_extension": ".py",
   "mimetype": "text/x-python",
   "name": "python",
   "nbconvert_exporter": "python",
   "pygments_lexer": "ipython3",
   "version": "3.8.8"
  }
 },
 "nbformat": 4,
 "nbformat_minor": 4
}
