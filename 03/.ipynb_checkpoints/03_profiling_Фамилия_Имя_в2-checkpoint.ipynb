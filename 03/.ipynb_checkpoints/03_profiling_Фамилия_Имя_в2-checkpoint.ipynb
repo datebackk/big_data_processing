{
 "cells": [
  {
   "cell_type": "markdown",
   "metadata": {},
   "source": [
    "## Оптимизация выполнения кода, векторизация, Numba"
   ]
  },
  {
   "cell_type": "markdown",
   "metadata": {},
   "source": [
    "Материалы:\n",
    "* Макрушин С.В. Лекция 3: Оптимизация выполнения кода, векторизация, Numba\n",
    "* IPython Cookbook, Second Edition (2018), глава 4\n",
    "* https://numba.pydata.org/numba-doc/latest/user/5minguide.html"
   ]
  },
  {
   "cell_type": "markdown",
   "metadata": {},
   "source": [
    "## Задачи для совместного разбора"
   ]
  },
  {
   "cell_type": "markdown",
   "metadata": {},
   "source": [
    "1. Сгенерируйте массив `A` из `N=1млн` случайных целых чисел на отрезке от 0 до 1000. Пусть `B[i] = A[i] + 100`. Посчитайте среднее значение массива `B`."
   ]
  },
  {
   "cell_type": "code",
   "execution_count": 2,
   "metadata": {},
   "outputs": [],
   "source": [
    "import numpy as np\n",
    "\n",
    "A = np.random.randint(0, 1000, size=(1_000_000, 1))\n",
    "\n",
    "def f1(A):\n",
    "    acc, cnt = 0, 0\n",
    "    for ai in A:\n",
    "        bi = ai + 100\n",
    "        acc += bi\n",
    "        cnt += 1\n",
    "    return acc / cnt"
   ]
  },
  {
   "cell_type": "code",
   "execution_count": 4,
   "metadata": {},
   "outputs": [
    {
     "name": "stdout",
     "output_type": "stream",
     "text": [
      "1.92 s ± 41 ms per loop (mean ± std. dev. of 7 runs, 1 loop each)\n"
     ]
    }
   ],
   "source": [
    "%timeit f1(A)"
   ]
  },
  {
   "cell_type": "markdown",
   "metadata": {},
   "source": [
    "2. Создайте таблицу 2млн строк и с 4 столбцами, заполненными случайными числами. Добавьте столбец `key`, которые содержит элементы из множества английских букв. Выберите из таблицы подмножество строк, для которых в столбце `key` указаны первые 5 английских букв."
   ]
  },
  {
   "cell_type": "markdown",
   "metadata": {},
   "source": [
    "## Лабораторная работа 3"
   ]
  },
  {
   "cell_type": "code",
   "execution_count": 1,
   "metadata": {},
   "outputs": [
    {
     "name": "stdout",
     "output_type": "stream",
     "text": [
      "Collecting line_profiler\n",
      "  Downloading line_profiler-3.3.0-cp38-cp38-macosx_10_9_x86_64.whl (53 kB)\n",
      "\u001b[K     |████████████████████████████████| 53 kB 128 kB/s eta 0:00:01\n",
      "\u001b[?25hRequirement already satisfied: IPython>=0.13 in /opt/anaconda3/lib/python3.8/site-packages (from line_profiler) (7.22.0)\n",
      "Requirement already satisfied: pickleshare in /opt/anaconda3/lib/python3.8/site-packages (from IPython>=0.13->line_profiler) (0.7.5)\n",
      "Requirement already satisfied: backcall in /opt/anaconda3/lib/python3.8/site-packages (from IPython>=0.13->line_profiler) (0.2.0)\n",
      "Requirement already satisfied: appnope in /opt/anaconda3/lib/python3.8/site-packages (from IPython>=0.13->line_profiler) (0.1.2)\n",
      "Requirement already satisfied: setuptools>=18.5 in /opt/anaconda3/lib/python3.8/site-packages (from IPython>=0.13->line_profiler) (52.0.0.post20210125)\n",
      "Requirement already satisfied: pexpect>4.3 in /opt/anaconda3/lib/python3.8/site-packages (from IPython>=0.13->line_profiler) (4.8.0)\n",
      "Requirement already satisfied: traitlets>=4.2 in /opt/anaconda3/lib/python3.8/site-packages (from IPython>=0.13->line_profiler) (5.0.5)\n",
      "Requirement already satisfied: prompt-toolkit!=3.0.0,!=3.0.1,<3.1.0,>=2.0.0 in /opt/anaconda3/lib/python3.8/site-packages (from IPython>=0.13->line_profiler) (3.0.17)\n",
      "Requirement already satisfied: decorator in /opt/anaconda3/lib/python3.8/site-packages (from IPython>=0.13->line_profiler) (5.0.6)\n",
      "Requirement already satisfied: jedi>=0.16 in /opt/anaconda3/lib/python3.8/site-packages (from IPython>=0.13->line_profiler) (0.17.2)\n",
      "Requirement already satisfied: pygments in /opt/anaconda3/lib/python3.8/site-packages (from IPython>=0.13->line_profiler) (2.8.1)\n",
      "Requirement already satisfied: parso<0.8.0,>=0.7.0 in /opt/anaconda3/lib/python3.8/site-packages (from jedi>=0.16->IPython>=0.13->line_profiler) (0.7.0)\n",
      "Requirement already satisfied: ptyprocess>=0.5 in /opt/anaconda3/lib/python3.8/site-packages (from pexpect>4.3->IPython>=0.13->line_profiler) (0.7.0)\n",
      "Requirement already satisfied: wcwidth in /opt/anaconda3/lib/python3.8/site-packages (from prompt-toolkit!=3.0.0,!=3.0.1,<3.1.0,>=2.0.0->IPython>=0.13->line_profiler) (0.2.5)\n",
      "Requirement already satisfied: ipython-genutils in /opt/anaconda3/lib/python3.8/site-packages (from traitlets>=4.2->IPython>=0.13->line_profiler) (0.2.0)\n",
      "Installing collected packages: line-profiler\n",
      "Successfully installed line-profiler-3.3.0\n"
     ]
    }
   ],
   "source": [
    "!pip install line_profiler"
   ]
  },
  {
   "cell_type": "markdown",
   "metadata": {},
   "source": [
    "1. В файлах `recipes_sample.csv` и `reviews_sample.csv` (__ЛР 2__) находится информация об рецептах блюд и отзывах на эти рецепты соответственно. Загрузите данные из файлов в виде `pd.DataFrame` с названиями `recipes` и `reviews`. Обратите внимание на корректное считывание столбца(ов) с индексами. Приведите столбцы к нужным типам.\n",
    "\n",
    "Реализуйте несколько вариантов функции подсчета среднего значения столбца `rating` из таблицы `reviews` для отзывов, оставленных в 2010 году.\n",
    "\n",
    "A. С использованием метода `DataFrame.iterrows` исходной таблицы;\n",
    "\n",
    "Б. С использованием метода `DataFrame.iterrows` таблицы, в которой сохранены только отзывы за 2010 год;\n",
    "\n",
    "В. С использованием метода `Series.mean`.\n",
    "\n",
    "Проверьте, что результаты работы всех написанных функций корректны и совпадают. Измерьте выполнения всех написанных функций.\n"
   ]
  },
  {
   "cell_type": "markdown",
   "metadata": {},
   "source": [
    "2. Какая из созданных функций выполняется медленнее? Что наиболее сильно влияет на скорость выполнения? Для ответа использовать профайлер `line_profiler`. Сохраните результаты работы профайлера в отдельную текстовую ячейку и прокомментируйте результаты его работы.\n",
    "\n",
    "(*). Сможете ли вы ускорить работу функции 1Б, отказавшись от использования метода `iterrows`, но не используя метод `mean`?"
   ]
  },
  {
   "cell_type": "markdown",
   "metadata": {},
   "source": [
    "3. Вам предлагается воспользоваться функцией, которая собирает статистику о том, сколько отзывов содержат то или иное слово. Измерьте время выполнения этой функции. Сможете ли вы найти узкие места в коде, используя профайлер? Выпишите (словами), что в имеющемся коде реализовано неоптимально. Оптимизируйте функцию и добейтесь значительного (как минимум, на один порядок) прироста в скорости выполнения."
   ]
  },
  {
   "cell_type": "code",
   "execution_count": 10,
   "metadata": {},
   "outputs": [],
   "source": [
    "def get_word_reviews_count(df):\n",
    "    word_reviews = {}\n",
    "    for _, row in df.dropna(subset=['review']).iterrows():\n",
    "        recipe_id, review = row['recipe_id'], row['review']\n",
    "        words = review.split(' ')\n",
    "        for word in words:\n",
    "            if word not in word_reviews:\n",
    "                word_reviews[word] = []\n",
    "            word_reviews[word].append(recipe_id)\n",
    "    \n",
    "    word_reviews_count = {}\n",
    "    for _, row in df.dropna(subset=['review']).iterrows():\n",
    "        review = row['review']\n",
    "        words = review.split(' ')\n",
    "        for word in words:\n",
    "            word_reviews_count[word] = len(word_reviews[word])\n",
    "    return word_reviews_count"
   ]
  },
  {
   "cell_type": "markdown",
   "metadata": {},
   "source": [
    "4. Напишите несколько версий функции `MAPE` (см. [MAPE](https://en.wikipedia.org/wiki/Mean_absolute_percentage_error)) для расчета среднего абсолютного процентного отклонения значения рейтинга отзыва на рецепт от среднего значения рейтинга по всем отзывам для этого рецепта. \n",
    "    1. Без использования векторизованных операций и методов массивов `numpy` и без использования `numba`\n",
    "    2. Без использования векторизованных операций и методов массивов `numpy`, но с использованием `numba`\n",
    "    3. С использованием векторизованных операций и методов массивов `numpy`, но без использования `numba`\n",
    "    4. C использованием векторизованных операций и методов массивов `numpy` и `numba`\n",
    "    \n",
    "Измерьте время выполнения каждой из реализаций.\n",
    "\n",
    "Замечание: удалите из выборки отзывы с нулевым рейтингом.\n"
   ]
  },
  {
   "cell_type": "code",
   "execution_count": null,
   "metadata": {},
   "outputs": [],
   "source": []
  },
  {
   "cell_type": "code",
   "execution_count": null,
   "metadata": {},
   "outputs": [],
   "source": []
  },
  {
   "cell_type": "markdown",
   "metadata": {},
   "source": [
    "#### [версия 2]\n",
    "* Уточнены формулировки задач 1, 3, 4"
   ]
  },
  {
   "cell_type": "code",
   "execution_count": null,
   "metadata": {},
   "outputs": [],
   "source": []
  }
 ],
 "metadata": {
  "kernelspec": {
   "display_name": "Python 3",
   "language": "python",
   "name": "python3"
  },
  "language_info": {
   "codemirror_mode": {
    "name": "ipython",
    "version": 3
   },
   "file_extension": ".py",
   "mimetype": "text/x-python",
   "name": "python",
   "nbconvert_exporter": "python",
   "pygments_lexer": "ipython3",
   "version": "3.8.8"
  }
 },
 "nbformat": 4,
 "nbformat_minor": 4
}
